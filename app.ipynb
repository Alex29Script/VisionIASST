{
 "cells": [
  {
   "cell_type": "code",
   "execution_count": 1,
   "id": "b3d2e922",
   "metadata": {},
   "outputs": [],
   "source": [
    "import pandas as pd"
   ]
  },
  {
   "cell_type": "code",
   "execution_count": 2,
   "id": "a598bfeb",
   "metadata": {},
   "outputs": [
    {
     "name": "stderr",
     "output_type": "stream",
     "text": [
      "f:\\Proyectos Programacion\\Proyectos Python\\entornos\\VisionSSTEnv\\lib\\site-packages\\tqdm\\auto.py:21: TqdmWarning: IProgress not found. Please update jupyter and ipywidgets. See https://ipywidgets.readthedocs.io/en/stable/user_install.html\n",
      "  from .autonotebook import tqdm as notebook_tqdm\n"
     ]
    }
   ],
   "source": [
    "from src.modelllm import ModelLLM\n",
    "from src.modelvision import ModelVision\n",
    "from src.questions import Questions"
   ]
  },
  {
   "cell_type": "code",
   "execution_count": 3,
   "id": "4aff0c84",
   "metadata": {},
   "outputs": [],
   "source": [
    "RUTH_SITUATION=\"../img/escalera.png\"\n",
    "MODEL_VISION_NAME=\"DAMO-NLP-SG/VideoLLaMA3-2B-Image\"\n",
    "MODEL_LLM_NAME=\"lmstudio-community/deepseek-r1-distill-qwen-14b\"\n",
    "API_KEY=\"lm-studio\""
   ]
  },
  {
   "cell_type": "code",
   "execution_count": 4,
   "id": "507ff642",
   "metadata": {},
   "outputs": [],
   "source": [
    "questions_class=Questions()"
   ]
  },
  {
   "cell_type": "code",
   "execution_count": 5,
   "id": "4b8cfd58",
   "metadata": {},
   "outputs": [
    {
     "data": {
      "text/html": [
       "<div>\n",
       "<style scoped>\n",
       "    .dataframe tbody tr th:only-of-type {\n",
       "        vertical-align: middle;\n",
       "    }\n",
       "\n",
       "    .dataframe tbody tr th {\n",
       "        vertical-align: top;\n",
       "    }\n",
       "\n",
       "    .dataframe thead th {\n",
       "        text-align: right;\n",
       "    }\n",
       "</style>\n",
       "<table border=\"1\" class=\"dataframe\">\n",
       "  <thead>\n",
       "    <tr style=\"text-align: right;\">\n",
       "      <th></th>\n",
       "      <th>factor</th>\n",
       "      <th>query</th>\n",
       "    </tr>\n",
       "  </thead>\n",
       "  <tbody>\n",
       "    <tr>\n",
       "      <th>0</th>\n",
       "      <td>Description</td>\n",
       "      <td>Describe in detail the situation shown in the ...</td>\n",
       "    </tr>\n",
       "    <tr>\n",
       "      <th>1</th>\n",
       "      <td>Description sst</td>\n",
       "      <td>You are an expert in Occupational Safety and H...</td>\n",
       "    </tr>\n",
       "    <tr>\n",
       "      <th>2</th>\n",
       "      <td>6Mmethod</td>\n",
       "      <td>As an expert in Occupational Safety and Health...</td>\n",
       "    </tr>\n",
       "    <tr>\n",
       "      <th>3</th>\n",
       "      <td>Manpower</td>\n",
       "      <td>As an expert in Occupational Safety and Health...</td>\n",
       "    </tr>\n",
       "    <tr>\n",
       "      <th>4</th>\n",
       "      <td>Method</td>\n",
       "      <td>As an expert in Occupational Safety and Health...</td>\n",
       "    </tr>\n",
       "    <tr>\n",
       "      <th>5</th>\n",
       "      <td>Materials</td>\n",
       "      <td>As an expert in Occupational Safety and Health...</td>\n",
       "    </tr>\n",
       "    <tr>\n",
       "      <th>6</th>\n",
       "      <td>Machine</td>\n",
       "      <td>\\n                As an expert in Occupational...</td>\n",
       "    </tr>\n",
       "    <tr>\n",
       "      <th>7</th>\n",
       "      <td>Enviroment</td>\n",
       "      <td>\\n                    As an expert in Occupati...</td>\n",
       "    </tr>\n",
       "    <tr>\n",
       "      <th>8</th>\n",
       "      <td>Messure</td>\n",
       "      <td>As an expert in Occupational Safety and Health...</td>\n",
       "    </tr>\n",
       "  </tbody>\n",
       "</table>\n",
       "</div>"
      ],
      "text/plain": [
       "            factor                                              query\n",
       "0      Description  Describe in detail the situation shown in the ...\n",
       "1  Description sst  You are an expert in Occupational Safety and H...\n",
       "2         6Mmethod  As an expert in Occupational Safety and Health...\n",
       "3         Manpower  As an expert in Occupational Safety and Health...\n",
       "4           Method  As an expert in Occupational Safety and Health...\n",
       "5        Materials  As an expert in Occupational Safety and Health...\n",
       "6          Machine  \\n                As an expert in Occupational...\n",
       "7       Enviroment  \\n                    As an expert in Occupati...\n",
       "8          Messure  As an expert in Occupational Safety and Health..."
      ]
     },
     "execution_count": 5,
     "metadata": {},
     "output_type": "execute_result"
    }
   ],
   "source": [
    "questions_class.init_quest()"
   ]
  },
  {
   "cell_type": "code",
   "execution_count": 6,
   "id": "2dac72c0",
   "metadata": {},
   "outputs": [],
   "source": [
    "model_vision=ModelVision(MODEL_VISION_NAME,RUTH_SITUATION,questions_class.init_quest())"
   ]
  },
  {
   "cell_type": "code",
   "execution_count": 7,
   "id": "d70f0f27",
   "metadata": {},
   "outputs": [
    {
     "name": "stdout",
     "output_type": "stream",
     "text": [
      "Description\n",
      "The image depicts a bustling retail environment, specifically a home decor store. The scene is dominated by shelves stocked with various decorative items, including vases and other ornamental pieces. In the foreground, there are several clear glass vases displayed prominently on a white shelf.\n",
      "\n",
      "In the background, two individuals can be seen walking through the aisle. One person appears to be wearing a gray shirt while navigating past the merchandise. Another individual, dressed in black pants, is also visible as they move along the aisle. Their presence adds a sense of activity and liveliness to the scene.\n",
      "\n",
      "Above them hangs a large sign that reads \"Porcelain,\" indicating the section or theme of the store's offerings. This sign serves both an informative purpose for customers looking for porcelain items and acts as a visual focal point within the space.\n",
      "\n",
      "The overall atmosphere suggests a modern and well-organized retail setting designed to showcase diverse home decor options. The lighting in the store is bright, enhancing visibility and highlighting the products on display.\n",
      "Description sst\n",
      "The image presents a scenario that raises significant concerns regarding occupational safety and health. The primary hazard is the individual standing on an elevated platform, likely a ladder or scaffolding, without any visible fall protection measures such as harnesses, guardrails, or safety nets. This poses a severe risk of falling from height.\n",
      "\n",
      "There are several unsafe conditions in this setting:\n",
      "\n",
      "1. **Ladder Placement**: The ladder appears to be improperly positioned or unstable, which could lead to accidents if not used correctly.\n",
      "2. **Platform Height**: Standing at such a height requires specialized training and equipment for safe use.\n",
      "3. **Visibility Issues**: There is no clear indication of proper lighting or signage around the area, potentially leading to confusion about hazards or exit routes.\n",
      "4. **Product Display**: The presence of decorative items suggests that there may be other hazardous materials nearby, such as chemicals or flammable substances.\n",
      "\n",
      "Unsafe acts include:\n",
      "\n",
      "1. **Untrained Personnel**: Without proper training, individuals should not attempt tasks requiring heights above waist level.\n",
      "2. **Insufficient Safety Equipment**: No evidence of personal protective gear like helmets, gloves, or reflective clothing.\n",
      "3. **Lack of Supervision**: No one seems to be overseeing this activity, increasing the risk of accidents.\n",
      "\n",
      "Violations of safety regulations could include:\n",
      "\n",
      "1. **OHS Management**: Insufficient attention to O\n",
      "6Mmethod\n",
      "Before providing the analysis, let's examine the image description carefully. The scene depicts a store with various products on display and shelves filled with items like vases, bowls, and other household goods. A person is seen climbing or reaching for something above their head while wearing jeans and a gray shirt.\n",
      "\n",
      "Now, let's analyze this situation using the 6M method:\n",
      "\n",
      "1. Manpower:\n",
      "The individual in question could be at risk of falls due to improper use of stairs (if there are any) or inadequate height clearance between floors. This also raises concerns about the worker's physical strength and balance.\n",
      "\n",
      "2. Method:\n",
      "There doesn't appear to be an effective lifting technique being used here. Proper lifting techniques involve bending at the knees and keeping the back straight, which would help prevent strain injuries. However, without seeing proper form, it's difficult to assess the current method.\n",
      "\n",
      "3. Machinery:\n",
      "The presence of stairs suggests that machinery might be present but not visible from this angle. There's no indication of any heavy equipment or potential hazards associated with its operation.\n",
      "\n",
      "4. Materials:\n",
      "The variety of products on display indicates a mix of fragile and potentially hazardous materials. Glassware, for example, poses risks if mishandled. Additionally, the shelving units themselves could pose tripping hazards if they're not properly secured.\n",
      "\n",
      "5. Environment:\n",
      "The store\n",
      "Manpower\n",
      "The image depicts a potentially hazardous situation in an industrial setting, where the worker is engaged in what appears to be a manual task involving machinery or heavy equipment. The presence of the person on top of the machine raises several potential risks:\n",
      "\n",
      "1. **Knowledge and Experience**: While it's unclear from the image alone how experienced the individual might be with operating such machinery, the fact that they are performing this task suggests a lack of formal training or experience.\n",
      "\n",
      "2. **Physical Condition**:\n",
      "   - **Strength**: The worker may not have sufficient upper body strength to maintain balance while standing on unstable surfaces.\n",
      "   - **Vision**: Operating complex machinery requires good visual acuity, which could be compromised by factors like age-related vision loss or eye conditions.\n",
      "   - **Health**: There are no obvious signs of health issues, but if the worker has pre-existing medical conditions, these could affect their ability to perform tasks safely.\n",
      "   - **Weight**: Being overweight increases the risk of injury during physical labor due to the added strain on joints and muscles.\n",
      "   - **Medical Issues**: Any known medical conditions (e.g., heart disease) can make certain tasks more dangerous than others.\n",
      "\n",
      "3. **Psychological Condition**:\n",
      "   - **Attitude toward Safety**: The worker's attitude towards safety practices should ideally align with those required for the job. If there's a\n",
      "Method\n",
      "The task of reaching the top shelf requires a specific work method that involves climbing or using a ladder. In this image, we can observe an individual positioned on a ladder to reach the upper part of the store's shelves. This action suggests that there is no standardized procedure for accessing higher areas in the retail environment.\n",
      "\n",
      "Regarding the appropriateness of the method, it seems reasonable to assume that such tasks are performed by employees who have been trained and are familiar with the necessary procedures to ensure safety. However, since no training records or photos are visible, it cannot be conclusively determined if the worker has received appropriate training before performing this task.\n",
      "\n",
      "As for the awareness and application of the method, based on the visual information provided, the person appears to be aware of their position while on the ladder. The absence of any signs of unsafe behavior indicates that they are correctly applying the method.\n",
      "\n",
      "In terms of evidence of training, without seeing official documentation or photographs showing the employee being properly trained, it is not possible to confirm whether adequate training was provided.\n",
      "\n",
      "Potential risks associated with the lack of proper procedures include falls from height due to improper use of ladders, loss of balance, and inadequate supervision leading to accidents.\n",
      "\n",
      "Therefore, while some elements suggest that the worker may have been adequately trained (as indicated by the presence of the \"PORCELAIN\" sign), the overall\n",
      "Materials\n",
      "The image does not provide sufficient information to evaluate the materials-related factors that could lead to an accident or incident. The scene focuses on a store environment with shelves of products, and no specific details about the materials used are visible. Without clear visual evidence of PPE usage, signage, work permits, supervision, or administrative requirements in place, it is impossible to assess these aspects accurately.\n",
      "The absence of appropriate personal protective equipment (PPE) for tasks involving hazardous materials, such as handling potentially flammable liquids or chemicals, would be a significant risk factor. Additionally, inadequate or non-compliant signage could pose risks by providing incorrect safety instructions or warnings. If there were any signs indicating hazards or required precautions, their visibility and legibility would need to be evaluated.\n",
      "\n",
      "However, without explicit visual evidence of the above elements, we cannot conclusively determine if they contribute to potential accidents or incidents. For a thorough assessment, additional context or a different angle focusing on the materials and their handling would be necessary.\n",
      "Machine\n",
      "The image does not provide enough visual information to accurately assess the presence of machinery or equipment, suitability for tasks, evidence of inspections and maintenance, pre-operational conditions, signs of poor condition or improper use, or lack of operating manuals. Therefore, it is impossible to determine if any factors have contributed—or could contribute—to an accident or incident based solely on this image.\n",
      "                 \n",
      "                 However, given the context of a retail store with various products on display, there may be potential risks associated with machinery, equipment, or facilities such as:\n",
      "                 - Machinery malfunctioning due to wear and tear, inadequate maintenance, or operator error\n",
      "                 - Inadequate training or supervision leading to unsafe practices\n",
      "                 - Lack of proper labeling, instructions, or safety protocols\n",
      "                 - Poor storage or handling of fragile items like glassware\n",
      "                 - Insufficient lighting or visibility affecting operational capabilities\n",
      "\n",
      "                 To ensure OSH compliance in such environments, regular checks should be conducted on all machinery and equipment, operators should receive appropriate training, and clear guidelines and signage should be provided to minimize risks.\n",
      "Enviroment\n",
      "The environment in the image appears to be a retail store with shelves stocked with various products, including what looks like glass vases. From the visual assessment, it is challenging to determine whether the task of reaching for items on higher shelves would pose significant risks due to the lack of visible hazards such as sharp objects or unstable structures. However, the presence of numerous people and the height of the shelves could indicate potential tripping hazards if not properly managed.\n",
      "\n",
      "                 As an OSH expert, I can identify several factors that might contribute to safety concerns:\n",
      "                 - **Environmental Suitability**: While the immediate surroundings do not appear hazardous, the presence of multiple individuals working closely together increases the risk of accidents involving falling objects or collisions.\n",
      "                 - **Weather-Related Risks**: Without clear visibility into the weather conditions outside the store, we cannot assess the impact of rain, extreme heat, humidity, fog, or dust on worker safety.\n",
      "                 - **Contamination**: There are no obvious signs of environmental contamination within the viewable area, but this should be thoroughly checked before work commences.\n",
      "                 - **Air Quality and Lighting**: Proper air circulation and sufficient lighting are crucial for maintaining a safe working environment. If these conditions are compromised by inadequate ventilation or poor lighting, they could lead to eye strain, respiratory issues, or other health problems.\n",
      "                 - **Vent\n",
      "Messure\n",
      "Based on the image description, there are no visible measurement instruments such as gas detectors or temperature gauges that could pose a risk. The absence of these devices is likely intentional to maintain a clear view for the person climbing the ladder and to ensure safety during their task.\n",
      "\n",
      "Regarding critical safety measurements, the description does not mention any specific exposure levels, medical condition checks, or other health-related measurements being taken. Without explicit information about what measurements were conducted, it's impossible to determine if they were appropriate for the task at hand.\n",
      "\n",
      "The presence of trained personnel using specialized equipment suggests that the individuals involved in this activity have undergone proper training for their roles. However, without knowing the exact nature of the work being performed (e.g., plumbing, electrical maintenance), we cannot assess whether all necessary safety protocols are followed.\n",
      "\n",
      "As for risks related to the absence or misuse of measurement instruments, one potential concern might be the lack of awareness among workers regarding the importance of accurate measurements in potentially hazardous environments. If improper readings lead to incorrect decisions or actions, it could result in accidents or incidents.\n",
      "\n",
      "In conclusion, while some safety measures may be in place, the absence of certain measurement tools raises questions about their appropriateness for the task and the effectiveness of safety protocols in preventing accidents.\n"
     ]
    }
   ],
   "source": [
    "df_questions=model_vision.vision_model_image_description()"
   ]
  },
  {
   "cell_type": "code",
   "execution_count": 8,
   "id": "4fcf541a",
   "metadata": {},
   "outputs": [
    {
     "data": {
      "text/html": [
       "<div>\n",
       "<style scoped>\n",
       "    .dataframe tbody tr th:only-of-type {\n",
       "        vertical-align: middle;\n",
       "    }\n",
       "\n",
       "    .dataframe tbody tr th {\n",
       "        vertical-align: top;\n",
       "    }\n",
       "\n",
       "    .dataframe thead th {\n",
       "        text-align: right;\n",
       "    }\n",
       "</style>\n",
       "<table border=\"1\" class=\"dataframe\">\n",
       "  <thead>\n",
       "    <tr style=\"text-align: right;\">\n",
       "      <th></th>\n",
       "      <th>factor</th>\n",
       "      <th>query</th>\n",
       "      <th>answer</th>\n",
       "    </tr>\n",
       "  </thead>\n",
       "  <tbody>\n",
       "    <tr>\n",
       "      <th>0</th>\n",
       "      <td>Description</td>\n",
       "      <td>Describe in detail the situation shown in the ...</td>\n",
       "      <td>The image depicts a bustling retail environmen...</td>\n",
       "    </tr>\n",
       "    <tr>\n",
       "      <th>1</th>\n",
       "      <td>Description sst</td>\n",
       "      <td>You are an expert in Occupational Safety and H...</td>\n",
       "      <td>The image presents a scenario that raises sign...</td>\n",
       "    </tr>\n",
       "    <tr>\n",
       "      <th>2</th>\n",
       "      <td>6Mmethod</td>\n",
       "      <td>As an expert in Occupational Safety and Health...</td>\n",
       "      <td>Before providing the analysis, let's examine t...</td>\n",
       "    </tr>\n",
       "    <tr>\n",
       "      <th>3</th>\n",
       "      <td>Manpower</td>\n",
       "      <td>As an expert in Occupational Safety and Health...</td>\n",
       "      <td>The image depicts a potentially hazardous situ...</td>\n",
       "    </tr>\n",
       "    <tr>\n",
       "      <th>4</th>\n",
       "      <td>Method</td>\n",
       "      <td>As an expert in Occupational Safety and Health...</td>\n",
       "      <td>The task of reaching the top shelf requires a ...</td>\n",
       "    </tr>\n",
       "    <tr>\n",
       "      <th>5</th>\n",
       "      <td>Materials</td>\n",
       "      <td>As an expert in Occupational Safety and Health...</td>\n",
       "      <td>The image does not provide sufficient informat...</td>\n",
       "    </tr>\n",
       "    <tr>\n",
       "      <th>6</th>\n",
       "      <td>Machine</td>\n",
       "      <td>\\n                As an expert in Occupational...</td>\n",
       "      <td>The image does not provide enough visual infor...</td>\n",
       "    </tr>\n",
       "    <tr>\n",
       "      <th>7</th>\n",
       "      <td>Enviroment</td>\n",
       "      <td>\\n                    As an expert in Occupati...</td>\n",
       "      <td>The environment in the image appears to be a r...</td>\n",
       "    </tr>\n",
       "    <tr>\n",
       "      <th>8</th>\n",
       "      <td>Messure</td>\n",
       "      <td>As an expert in Occupational Safety and Health...</td>\n",
       "      <td>Based on the image description, there are no v...</td>\n",
       "    </tr>\n",
       "  </tbody>\n",
       "</table>\n",
       "</div>"
      ],
      "text/plain": [
       "            factor                                              query  \\\n",
       "0      Description  Describe in detail the situation shown in the ...   \n",
       "1  Description sst  You are an expert in Occupational Safety and H...   \n",
       "2         6Mmethod  As an expert in Occupational Safety and Health...   \n",
       "3         Manpower  As an expert in Occupational Safety and Health...   \n",
       "4           Method  As an expert in Occupational Safety and Health...   \n",
       "5        Materials  As an expert in Occupational Safety and Health...   \n",
       "6          Machine  \\n                As an expert in Occupational...   \n",
       "7       Enviroment  \\n                    As an expert in Occupati...   \n",
       "8          Messure  As an expert in Occupational Safety and Health...   \n",
       "\n",
       "                                              answer  \n",
       "0  The image depicts a bustling retail environmen...  \n",
       "1  The image presents a scenario that raises sign...  \n",
       "2  Before providing the analysis, let's examine t...  \n",
       "3  The image depicts a potentially hazardous situ...  \n",
       "4  The task of reaching the top shelf requires a ...  \n",
       "5  The image does not provide sufficient informat...  \n",
       "6  The image does not provide enough visual infor...  \n",
       "7  The environment in the image appears to be a r...  \n",
       "8  Based on the image description, there are no v...  "
      ]
     },
     "execution_count": 8,
     "metadata": {},
     "output_type": "execute_result"
    }
   ],
   "source": [
    "df_questions"
   ]
  },
  {
   "cell_type": "code",
   "execution_count": 9,
   "id": "c6031996",
   "metadata": {},
   "outputs": [],
   "source": [
    "full_input_for_llm=questions_class.generate_full_question_for_llm(df_questions)"
   ]
  },
  {
   "cell_type": "code",
   "execution_count": 10,
   "id": "d25e66d3",
   "metadata": {},
   "outputs": [
    {
     "data": {
      "text/plain": [
       "'\\n        You are an expert in Occupational Health and Safety (OHS). You will receive a detailed textual description of a workplace situation.\\n        1.Summarize the most relevant aspects of the situation.\\n        2.Identify any risks present.\\n        3.Identify any unsafe acts (actions performed in a hazardous way by individuals).\\n        4.Identify any unsafe conditions (hazardous environmental, equipment, material, or procedural elements).\\n        5.Based on your analysis, determine the most critical risks.\\n        6.Issue a risk alert using the following system:\\n        🔴 Red Alert: If there is a real and immediate risk of death, amputation, serious injury, or major harm to people or the facility.\\n        🟡 Yellow Alert: If there are potential risks that could escalate but do not require immediate work stoppage.\\n        🔵 Blue Alert: If no significant risk is present and the task can continue safely.\\n        Description: The image depicts a bustling retail environment, specifically a home decor store. The scene is dominated by shelves stocked with various decorative items, including vases and other ornamental pieces. In the foreground, there are several clear glass vases displayed prominently on a white shelf.\\n\\nIn the background, two individuals can be seen walking through the aisle. One person appears to be wearing a gray shirt while navigating past the merchandise. Another individual, dressed in black pants, is also visible as they move along the aisle. Their presence adds a sense of activity and liveliness to the scene.\\n\\nAbove them hangs a large sign that reads \"Porcelain,\" indicating the section or theme of the store\\'s offerings. This sign serves both an informative purpose for customers looking for porcelain items and acts as a visual focal point within the space.\\n\\nThe overall atmosphere suggests a modern and well-organized retail setting designed to showcase diverse home decor options. The lighting in the store is bright, enhancing visibility and highlighting the products on display.Description sst: The image presents a scenario that raises significant concerns regarding occupational safety and health. The primary hazard is the individual standing on an elevated platform, likely a ladder or scaffolding, without any visible fall protection measures such as harnesses, guardrails, or safety nets. This poses a severe risk of falling from height.\\n\\nThere are several unsafe conditions in this setting:\\n\\n1. **Ladder Placement**: The ladder appears to be improperly positioned or unstable, which could lead to accidents if not used correctly.\\n2. **Platform Height**: Standing at such a height requires specialized training and equipment for safe use.\\n3. **Visibility Issues**: There is no clear indication of proper lighting or signage around the area, potentially leading to confusion about hazards or exit routes.\\n4. **Product Display**: The presence of decorative items suggests that there may be other hazardous materials nearby, such as chemicals or flammable substances.\\n\\nUnsafe acts include:\\n\\n1. **Untrained Personnel**: Without proper training, individuals should not attempt tasks requiring heights above waist level.\\n2. **Insufficient Safety Equipment**: No evidence of personal protective gear like helmets, gloves, or reflective clothing.\\n3. **Lack of Supervision**: No one seems to be overseeing this activity, increasing the risk of accidents.\\n\\nViolations of safety regulations could include:\\n\\n1. **OHS Management**: Insufficient attention to O6Mmethod: Before providing the analysis, let\\'s examine the image description carefully. The scene depicts a store with various products on display and shelves filled with items like vases, bowls, and other household goods. A person is seen climbing or reaching for something above their head while wearing jeans and a gray shirt.\\n\\nNow, let\\'s analyze this situation using the 6M method:\\n\\n1. Manpower:\\nThe individual in question could be at risk of falls due to improper use of stairs (if there are any) or inadequate height clearance between floors. This also raises concerns about the worker\\'s physical strength and balance.\\n\\n2. Method:\\nThere doesn\\'t appear to be an effective lifting technique being used here. Proper lifting techniques involve bending at the knees and keeping the back straight, which would help prevent strain injuries. However, without seeing proper form, it\\'s difficult to assess the current method.\\n\\n3. Machinery:\\nThe presence of stairs suggests that machinery might be present but not visible from this angle. There\\'s no indication of any heavy equipment or potential hazards associated with its operation.\\n\\n4. Materials:\\nThe variety of products on display indicates a mix of fragile and potentially hazardous materials. Glassware, for example, poses risks if mishandled. Additionally, the shelving units themselves could pose tripping hazards if they\\'re not properly secured.\\n\\n5. Environment:\\nThe storeManpower: The image depicts a potentially hazardous situation in an industrial setting, where the worker is engaged in what appears to be a manual task involving machinery or heavy equipment. The presence of the person on top of the machine raises several potential risks:\\n\\n1. **Knowledge and Experience**: While it\\'s unclear from the image alone how experienced the individual might be with operating such machinery, the fact that they are performing this task suggests a lack of formal training or experience.\\n\\n2. **Physical Condition**:\\n   - **Strength**: The worker may not have sufficient upper body strength to maintain balance while standing on unstable surfaces.\\n   - **Vision**: Operating complex machinery requires good visual acuity, which could be compromised by factors like age-related vision loss or eye conditions.\\n   - **Health**: There are no obvious signs of health issues, but if the worker has pre-existing medical conditions, these could affect their ability to perform tasks safely.\\n   - **Weight**: Being overweight increases the risk of injury during physical labor due to the added strain on joints and muscles.\\n   - **Medical Issues**: Any known medical conditions (e.g., heart disease) can make certain tasks more dangerous than others.\\n\\n3. **Psychological Condition**:\\n   - **Attitude toward Safety**: The worker\\'s attitude towards safety practices should ideally align with those required for the job. If there\\'s aMethod: The task of reaching the top shelf requires a specific work method that involves climbing or using a ladder. In this image, we can observe an individual positioned on a ladder to reach the upper part of the store\\'s shelves. This action suggests that there is no standardized procedure for accessing higher areas in the retail environment.\\n\\nRegarding the appropriateness of the method, it seems reasonable to assume that such tasks are performed by employees who have been trained and are familiar with the necessary procedures to ensure safety. However, since no training records or photos are visible, it cannot be conclusively determined if the worker has received appropriate training before performing this task.\\n\\nAs for the awareness and application of the method, based on the visual information provided, the person appears to be aware of their position while on the ladder. The absence of any signs of unsafe behavior indicates that they are correctly applying the method.\\n\\nIn terms of evidence of training, without seeing official documentation or photographs showing the employee being properly trained, it is not possible to confirm whether adequate training was provided.\\n\\nPotential risks associated with the lack of proper procedures include falls from height due to improper use of ladders, loss of balance, and inadequate supervision leading to accidents.\\n\\nTherefore, while some elements suggest that the worker may have been adequately trained (as indicated by the presence of the \"PORCELAIN\" sign), the overallMaterials: The image does not provide sufficient information to evaluate the materials-related factors that could lead to an accident or incident. The scene focuses on a store environment with shelves of products, and no specific details about the materials used are visible. Without clear visual evidence of PPE usage, signage, work permits, supervision, or administrative requirements in place, it is impossible to assess these aspects accurately.\\nThe absence of appropriate personal protective equipment (PPE) for tasks involving hazardous materials, such as handling potentially flammable liquids or chemicals, would be a significant risk factor. Additionally, inadequate or non-compliant signage could pose risks by providing incorrect safety instructions or warnings. If there were any signs indicating hazards or required precautions, their visibility and legibility would need to be evaluated.\\n\\nHowever, without explicit visual evidence of the above elements, we cannot conclusively determine if they contribute to potential accidents or incidents. For a thorough assessment, additional context or a different angle focusing on the materials and their handling would be necessary.Machine: The image does not provide enough visual information to accurately assess the presence of machinery or equipment, suitability for tasks, evidence of inspections and maintenance, pre-operational conditions, signs of poor condition or improper use, or lack of operating manuals. Therefore, it is impossible to determine if any factors have contributed—or could contribute—to an accident or incident based solely on this image.\\n                 \\n                 However, given the context of a retail store with various products on display, there may be potential risks associated with machinery, equipment, or facilities such as:\\n                 - Machinery malfunctioning due to wear and tear, inadequate maintenance, or operator error\\n                 - Inadequate training or supervision leading to unsafe practices\\n                 - Lack of proper labeling, instructions, or safety protocols\\n                 - Poor storage or handling of fragile items like glassware\\n                 - Insufficient lighting or visibility affecting operational capabilities\\n\\n                 To ensure OSH compliance in such environments, regular checks should be conducted on all machinery and equipment, operators should receive appropriate training, and clear guidelines and signage should be provided to minimize risks.Enviroment: The environment in the image appears to be a retail store with shelves stocked with various products, including what looks like glass vases. From the visual assessment, it is challenging to determine whether the task of reaching for items on higher shelves would pose significant risks due to the lack of visible hazards such as sharp objects or unstable structures. However, the presence of numerous people and the height of the shelves could indicate potential tripping hazards if not properly managed.\\n\\n                 As an OSH expert, I can identify several factors that might contribute to safety concerns:\\n                 - **Environmental Suitability**: While the immediate surroundings do not appear hazardous, the presence of multiple individuals working closely together increases the risk of accidents involving falling objects or collisions.\\n                 - **Weather-Related Risks**: Without clear visibility into the weather conditions outside the store, we cannot assess the impact of rain, extreme heat, humidity, fog, or dust on worker safety.\\n                 - **Contamination**: There are no obvious signs of environmental contamination within the viewable area, but this should be thoroughly checked before work commences.\\n                 - **Air Quality and Lighting**: Proper air circulation and sufficient lighting are crucial for maintaining a safe working environment. If these conditions are compromised by inadequate ventilation or poor lighting, they could lead to eye strain, respiratory issues, or other health problems.\\n                 - **VentMessure: Based on the image description, there are no visible measurement instruments such as gas detectors or temperature gauges that could pose a risk. The absence of these devices is likely intentional to maintain a clear view for the person climbing the ladder and to ensure safety during their task.\\n\\nRegarding critical safety measurements, the description does not mention any specific exposure levels, medical condition checks, or other health-related measurements being taken. Without explicit information about what measurements were conducted, it\\'s impossible to determine if they were appropriate for the task at hand.\\n\\nThe presence of trained personnel using specialized equipment suggests that the individuals involved in this activity have undergone proper training for their roles. However, without knowing the exact nature of the work being performed (e.g., plumbing, electrical maintenance), we cannot assess whether all necessary safety protocols are followed.\\n\\nAs for risks related to the absence or misuse of measurement instruments, one potential concern might be the lack of awareness among workers regarding the importance of accurate measurements in potentially hazardous environments. If improper readings lead to incorrect decisions or actions, it could result in accidents or incidents.\\n\\nIn conclusion, while some safety measures may be in place, the absence of certain measurement tools raises questions about their appropriateness for the task and the effectiveness of safety protocols in preventing accidents.'"
      ]
     },
     "execution_count": 10,
     "metadata": {},
     "output_type": "execute_result"
    }
   ],
   "source": [
    "full_input_for_llm"
   ]
  },
  {
   "cell_type": "code",
   "execution_count": 11,
   "id": "adc05119",
   "metadata": {},
   "outputs": [],
   "source": [
    "model_llm=ModelLLM(MODEL_LLM_NAME,API_KEY)"
   ]
  },
  {
   "cell_type": "code",
   "execution_count": 16,
   "id": "3b9ca249",
   "metadata": {},
   "outputs": [],
   "source": [
    "model_vision.model=\"\""
   ]
  },
  {
   "cell_type": "code",
   "execution_count": 17,
   "id": "5d0dc785",
   "metadata": {},
   "outputs": [
    {
     "name": "stdout",
     "output_type": "stream",
     "text": [
      "Entrando a consulta...20/05/2025 17:16\n",
      "consulta completada...20/05/2025 17:23\n"
     ]
    }
   ],
   "source": [
    "input_text,think_ia,res=model_llm.get_llm_response(full_input_for_llm)"
   ]
  },
  {
   "cell_type": "code",
   "execution_count": 13,
   "id": "4a0c1120",
   "metadata": {},
   "outputs": [
    {
     "data": {
      "text/plain": [
       "'20/05/2025 17:06\\n\\n\\n        You are an expert in Occupational Health and Safety (OHS). You will receive a detailed textual description of a workplace situation.\\n        1.Summarize the most relevant aspects of the situation.\\n        2.Identify any risks present.\\n        3.Identify any unsafe acts (actions performed in a hazardous way by individuals).\\n        4.Identify any unsafe conditions (hazardous environmental, equipment, material, or procedural elements).\\n        5.Based on your analysis, determine the most critical risks.\\n        6.Issue a risk alert using the following system:\\n        🔴 Red Alert: If there is a real and immediate risk of death, amputation, serious injury, or major harm to people or the facility.\\n        🟡 Yellow Alert: If there are potential risks that could escalate but do not require immediate work stoppage.\\n        🔵 Blue Alert: If no significant risk is present and the task can continue safely.\\n        Description: The image depicts a bustling retail environment, specifically a home decor store. The scene is dominated by shelves stocked with various decorative items, including vases and other ornamental pieces. In the foreground, there are several clear glass vases displayed prominently on a white shelf.\\n\\nIn the background, two individuals can be seen walking through the aisle. One person appears to be wearing a gray shirt while navigating past the merchandise. Another individual, dressed in black pants, is also visible as they move along the aisle. Their presence adds a sense of activity and liveliness to the scene.\\n\\nAbove them hangs a large sign that reads \"Porcelain,\" indicating the section or theme of the store\\'s offerings. This sign serves both an informative purpose for customers looking for porcelain items and acts as a visual focal point within the space.\\n\\nThe overall atmosphere suggests a modern and well-organized retail setting designed to showcase diverse home decor options. The lighting in the store is bright, enhancing visibility and highlighting the products on display.Description sst: The image presents a scenario that raises significant concerns regarding occupational safety and health. The primary hazard is the individual standing on an elevated platform, likely a ladder or scaffolding, without any visible fall protection measures such as harnesses, guardrails, or safety nets. This poses a severe risk of falling from height.\\n\\nThere are several unsafe conditions in this setting:\\n\\n1. **Ladder Placement**: The ladder appears to be improperly positioned or unstable, which could lead to accidents if not used correctly.\\n2. **Platform Height**: Standing at such a height requires specialized training and equipment for safe use.\\n3. **Visibility Issues**: There is no clear indication of proper lighting or signage around the area, potentially leading to confusion about hazards or exit routes.\\n4. **Product Display**: The presence of decorative items suggests that there may be other hazardous materials nearby, such as chemicals or flammable substances.\\n\\nUnsafe acts include:\\n\\n1. **Untrained Personnel**: Without proper training, individuals should not attempt tasks requiring heights above waist level.\\n2. **Insufficient Safety Equipment**: No evidence of personal protective gear like helmets, gloves, or reflective clothing.\\n3. **Lack of Supervision**: No one seems to be overseeing this activity, increasing the risk of accidents.\\n\\nViolations of safety regulations could include:\\n\\n1. **OHS Management**: Insufficient attention to O6Mmethod: Before providing the analysis, let\\'s examine the image description carefully. The scene depicts a store with various products on display and shelves filled with items like vases, bowls, and other household goods. A person is seen climbing or reaching for something above their head while wearing jeans and a gray shirt.\\n\\nNow, let\\'s analyze this situation using the 6M method:\\n\\n1. Manpower:\\nThe individual in question could be at risk of falls due to improper use of stairs (if there are any) or inadequate height clearance between floors. This also raises concerns about the worker\\'s physical strength and balance.\\n\\n2. Method:\\nThere doesn\\'t appear to be an effective lifting technique being used here. Proper lifting techniques involve bending at the knees and keeping the back straight, which would help prevent strain injuries. However, without seeing proper form, it\\'s difficult to assess the current method.\\n\\n3. Machinery:\\nThe presence of stairs suggests that machinery might be present but not visible from this angle. There\\'s no indication of any heavy equipment or potential hazards associated with its operation.\\n\\n4. Materials:\\nThe variety of products on display indicates a mix of fragile and potentially hazardous materials. Glassware, for example, poses risks if mishandled. Additionally, the shelving units themselves could pose tripping hazards if they\\'re not properly secured.\\n\\n5. Environment:\\nThe storeManpower: The image depicts a potentially hazardous situation in an industrial setting, where the worker is engaged in what appears to be a manual task involving machinery or heavy equipment. The presence of the person on top of the machine raises several potential risks:\\n\\n1. **Knowledge and Experience**: While it\\'s unclear from the image alone how experienced the individual might be with operating such machinery, the fact that they are performing this task suggests a lack of formal training or experience.\\n\\n2. **Physical Condition**:\\n   - **Strength**: The worker may not have sufficient upper body strength to maintain balance while standing on unstable surfaces.\\n   - **Vision**: Operating complex machinery requires good visual acuity, which could be compromised by factors like age-related vision loss or eye conditions.\\n   - **Health**: There are no obvious signs of health issues, but if the worker has pre-existing medical conditions, these could affect their ability to perform tasks safely.\\n   - **Weight**: Being overweight increases the risk of injury during physical labor due to the added strain on joints and muscles.\\n   - **Medical Issues**: Any known medical conditions (e.g., heart disease) can make certain tasks more dangerous than others.\\n\\n3. **Psychological Condition**:\\n   - **Attitude toward Safety**: The worker\\'s attitude towards safety practices should ideally align with those required for the job. If there\\'s aMethod: The task of reaching the top shelf requires a specific work method that involves climbing or using a ladder. In this image, we can observe an individual positioned on a ladder to reach the upper part of the store\\'s shelves. This action suggests that there is no standardized procedure for accessing higher areas in the retail environment.\\n\\nRegarding the appropriateness of the method, it seems reasonable to assume that such tasks are performed by employees who have been trained and are familiar with the necessary procedures to ensure safety. However, since no training records or photos are visible, it cannot be conclusively determined if the worker has received appropriate training before performing this task.\\n\\nAs for the awareness and application of the method, based on the visual information provided, the person appears to be aware of their position while on the ladder. The absence of any signs of unsafe behavior indicates that they are correctly applying the method.\\n\\nIn terms of evidence of training, without seeing official documentation or photographs showing the employee being properly trained, it is not possible to confirm whether adequate training was provided.\\n\\nPotential risks associated with the lack of proper procedures include falls from height due to improper use of ladders, loss of balance, and inadequate supervision leading to accidents.\\n\\nTherefore, while some elements suggest that the worker may have been adequately trained (as indicated by the presence of the \"PORCELAIN\" sign), the overallMaterials: The image does not provide sufficient information to evaluate the materials-related factors that could lead to an accident or incident. The scene focuses on a store environment with shelves of products, and no specific details about the materials used are visible. Without clear visual evidence of PPE usage, signage, work permits, supervision, or administrative requirements in place, it is impossible to assess these aspects accurately.\\nThe absence of appropriate personal protective equipment (PPE) for tasks involving hazardous materials, such as handling potentially flammable liquids or chemicals, would be a significant risk factor. Additionally, inadequate or non-compliant signage could pose risks by providing incorrect safety instructions or warnings. If there were any signs indicating hazards or required precautions, their visibility and legibility would need to be evaluated.\\n\\nHowever, without explicit visual evidence of the above elements, we cannot conclusively determine if they contribute to potential accidents or incidents. For a thorough assessment, additional context or a different angle focusing on the materials and their handling would be necessary.Machine: The image does not provide enough visual information to accurately assess the presence of machinery or equipment, suitability for tasks, evidence of inspections and maintenance, pre-operational conditions, signs of poor condition or improper use, or lack of operating manuals. Therefore, it is impossible to determine if any factors have contributed—or could contribute—to an accident or incident based solely on this image.\\n                 \\n                 However, given the context of a retail store with various products on display, there may be potential risks associated with machinery, equipment, or facilities such as:\\n                 - Machinery malfunctioning due to wear and tear, inadequate maintenance, or operator error\\n                 - Inadequate training or supervision leading to unsafe practices\\n                 - Lack of proper labeling, instructions, or safety protocols\\n                 - Poor storage or handling of fragile items like glassware\\n                 - Insufficient lighting or visibility affecting operational capabilities\\n\\n                 To ensure OSH compliance in such environments, regular checks should be conducted on all machinery and equipment, operators should receive appropriate training, and clear guidelines and signage should be provided to minimize risks.Enviroment: The environment in the image appears to be a retail store with shelves stocked with various products, including what looks like glass vases. From the visual assessment, it is challenging to determine whether the task of reaching for items on higher shelves would pose significant risks due to the lack of visible hazards such as sharp objects or unstable structures. However, the presence of numerous people and the height of the shelves could indicate potential tripping hazards if not properly managed.\\n\\n                 As an OSH expert, I can identify several factors that might contribute to safety concerns:\\n                 - **Environmental Suitability**: While the immediate surroundings do not appear hazardous, the presence of multiple individuals working closely together increases the risk of accidents involving falling objects or collisions.\\n                 - **Weather-Related Risks**: Without clear visibility into the weather conditions outside the store, we cannot assess the impact of rain, extreme heat, humidity, fog, or dust on worker safety.\\n                 - **Contamination**: There are no obvious signs of environmental contamination within the viewable area, but this should be thoroughly checked before work commences.\\n                 - **Air Quality and Lighting**: Proper air circulation and sufficient lighting are crucial for maintaining a safe working environment. If these conditions are compromised by inadequate ventilation or poor lighting, they could lead to eye strain, respiratory issues, or other health problems.\\n                 - **VentMessure: Based on the image description, there are no visible measurement instruments such as gas detectors or temperature gauges that could pose a risk. The absence of these devices is likely intentional to maintain a clear view for the person climbing the ladder and to ensure safety during their task.\\n\\nRegarding critical safety measurements, the description does not mention any specific exposure levels, medical condition checks, or other health-related measurements being taken. Without explicit information about what measurements were conducted, it\\'s impossible to determine if they were appropriate for the task at hand.\\n\\nThe presence of trained personnel using specialized equipment suggests that the individuals involved in this activity have undergone proper training for their roles. However, without knowing the exact nature of the work being performed (e.g., plumbing, electrical maintenance), we cannot assess whether all necessary safety protocols are followed.\\n\\nAs for risks related to the absence or misuse of measurement instruments, one potential concern might be the lack of awareness among workers regarding the importance of accurate measurements in potentially hazardous environments. If improper readings lead to incorrect decisions or actions, it could result in accidents or incidents.\\n\\nIn conclusion, while some safety measures may be in place, the absence of certain measurement tools raises questions about their appropriateness for the task and the effectiveness of safety protocols in preventing accidents.'"
      ]
     },
     "execution_count": 13,
     "metadata": {},
     "output_type": "execute_result"
    }
   ],
   "source": [
    "input_text"
   ]
  },
  {
   "cell_type": "code",
   "execution_count": 14,
   "id": "b7365644",
   "metadata": {},
   "outputs": [
    {
     "data": {
      "text/plain": [
       "\"20/05/2025 17:14\\n\\nSin respuesta por el modelo dado al siguiente error: Error code: 400 - {'error': 'Model unloaded.'}\""
      ]
     },
     "execution_count": 14,
     "metadata": {},
     "output_type": "execute_result"
    }
   ],
   "source": [
    "think_ia"
   ]
  },
  {
   "cell_type": "code",
   "execution_count": 18,
   "id": "063f9a2a",
   "metadata": {},
   "outputs": [
    {
     "data": {
      "text/plain": [
       "'20/05/2025 17:23\\n\\n\\n\\n**Risk Analysis and Alert for Retail Store Environment**\\n\\n**Situation Overview:**\\nThe image depicts a bustling home decor store with porcelain items, featuring an employee on a ladder reaching high shelves without fall protection. Another individual moves nearby, and the scene includes clear lighting and organized shelving.\\n\\n**OSH 6M Analysis:**\\n\\n1. **Manpower:**\\n   - The worker appears untrained in safely working at heights, increasing the risk of falls.\\n   - Physical strength and health may impact task performance and safety.\\n\\n2. **Method:**\\n   - Use of a ladder without fall protection (harness or guardrails) poses a significant fall risk.\\n   - Potential instability while standing on the ladder could lead to loss of balance.\\n\\n3. **Machinery:**\\n   - No heavy machinery is present, so this area does not contribute to current risks.\\n\\n4. **Materials:**\\n   - Fragile porcelain items pose handling risks, including cuts from sharp edges.\\n   - Shelves might be overloaded, risking instability and potential collapse.\\n\\n5. **Machine:**\\n   - Not applicable as no machinery is present in the scene.\\n\\n6. **Environment:**\\n   - Organized layout with good lighting reduces visibility-related hazards.\\n   - Potential tripping hazards from movement of people and store layout.\\n\\n**Key Risks Identified:**\\n\\n- **Immediate Risk:** Severe fall hazard due to lack of fall protection, risking serious injury or death.\\n- **Additional Risks:** Fragile materials handling leading to breakage and potential injuries.\\n\\n**Unsafe Acts:**\\n- No fall protection equipment (harness, guardrails) used.\\n- Possible improper ladder use without supervision.\\n\\n**Unsafe Conditions:**\\n- Unstable ladder placement increasing fall risk.\\n- Lack of safety nets or harnesses around the work area.\\n- Tripping hazards from store layout and movement of individuals.\\n\\n**Critical Risks:**\\nThe primary critical risk is the immediate danger of falling from height, which could result in serious injury or death. This necessitates urgent action.\\n\\n**Risk Alert Level:**\\n- **🔴 Red Alert:** Existence of real and immediate risk of death, serious injury, or major harm due to potential falls from heights without adequate safety measures.\\n\\n**Recommendations:**\\n1. Immediately cease work at height until proper fall protection is provided.\\n2. Provide training on safe ladder use and fall prevention.\\n3. Assess and stabilize shelves to prevent instability and collapse.\\n4. Conduct a thorough risk assessment of the store layout to mitigate tripping hazards.\\n5. Ensure all employees have appropriate PPE for handling fragile materials.\\n\\n**Conclusion:**\\nThe situation requires immediate intervention to address the critical fall risk and ensure a safe working environment. Prioritizing safety measures will protect employees from serious harm.'"
      ]
     },
     "execution_count": 18,
     "metadata": {},
     "output_type": "execute_result"
    }
   ],
   "source": [
    "res"
   ]
  },
  {
   "cell_type": "markdown",
   "id": "7a7f47ed",
   "metadata": {},
   "source": [
    "\"20/05/2025 15:56\\n\\n\\n\\n### Analysis of Workplace Situation:\\n\\n#### 1. **Summary of the Most Relevant Aspects of the Situation:**\\nThe image depicts a scene from an upscale retail store, likely specializing in home goods or kitchenware. The setting is well-organized, with glassware and porcelain items displayed on shelves. Two individuals are present, suggesting normal customer activity. However, the follow-up description introduces additional context: a worker standing on top of a ladder in an industrial setting, which creates significant safety concerns.\\n\\n#### 2. **Identified Risks:**\\n- **Falls from Heights:** The worker is at risk of falling due to improper ladder use.\\n- **Electrical Hazards:** Working at heights near electrical equipment could lead to electrocution.\\n- **Confined Space Risks:** A confined area increases the likelihood of entrapment or inability to escape in case of an accident.\\n- **Equipment Failure:** The ladder may not be sturdy enough for the task, leading to structural failure.\\n- **Inadequate Safety Measures:** No visible personal protective equipment (PPE) or safety harness is present.\\n\\n#### 3. **Identified Unsafe Acts:**\\n- Standing on top of a ladder exceeds its intended design and use.\\n- Climbing without proper supervision or safety training.\\n- Using a ladder in a manner that violates standard operating procedures (SOPs).\\n\\n#### 4. **Identified Unsafe Conditions:**\\n- The ladder appears to be improperly positioned or secured.\\n- Insufficient lighting or uneven flooring could contribute to instability.\\n- No visible signage indicating safety protocols or work permits.\\n- Lack of fall protection equipment.\\n\\n#### 5. **Most Critical Risks:**\\n- **Falling from Heights:** This is the most critical risk, as it directly threatens the worker's life and could result in severe injury or death.\\n- **Confined Space Hazards:** The confined environment increases the severity of potential accidents due to restricted movement and rescue challenges.\\n\\n#### 6. **Risk Alert:**\\n**🔴 Red Alert**\\n\\n**Explanation:**\\nThe situation described poses a **real and immediate risk of death, amputation, serious injury, or major harm to people or the facility**. Specifically:\\n- The worker is standing on top of a ladder in an industrial setting, which exceeds its intended design and creates a high likelihood of falling.\\n- There are no visible safety measures (e.g., harnesses, fall arrest systems) to protect the worker from such falls.\\n- The confined space increases the potential for entrapment or inability to escape in case of an accident.\\n\\n**Recommendations:**\\n1. **Immediate Action:**\\n   - Remove the worker from the ladder and ensure they are safely on the ground.\\n   - Secure the area to prevent unauthorized access until safety measures are implemented.\\n\\n2. **Corrective Actions:**\\n   - Conduct a thorough inspection of all ladders and equipment for safe use.\\n   - Develop and implement standard operating procedures (SOPs) for working at heights, including ladder usage.\\n   - Provide mandatory safety training for workers on fall protection and confined space entry.\\n\\n3. **Preventative Measures:**\\n   - Ensure that all employees have access to proper PPE, including harnesses and headgear.\\n   - Use industrial-grade ladders designed for the task and ensure they are inspected regularly.\\n   - Assess the work area for confined spaces and implement escape plans if necessary.\\n\\nThis situation requires immediate attention to prevent potential fatalities or serious injuries.\""
   ]
  }
 ],
 "metadata": {
  "kernelspec": {
   "display_name": "VisionSSTEnv",
   "language": "python",
   "name": "python3"
  },
  "language_info": {
   "codemirror_mode": {
    "name": "ipython",
    "version": 3
   },
   "file_extension": ".py",
   "mimetype": "text/x-python",
   "name": "python",
   "nbconvert_exporter": "python",
   "pygments_lexer": "ipython3",
   "version": "3.10.8"
  }
 },
 "nbformat": 4,
 "nbformat_minor": 5
}
